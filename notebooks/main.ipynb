{
 "cells": [
  {
   "cell_type": "markdown",
   "id": "4d90f072-34f9-4e48-b33b-eb34d71040e9",
   "metadata": {},
   "source": [
    "# Multi-emotion Recognition Using Multi-EmoBERT and Emotion Analysis in Fake News\n",
    "@inproceedings{li2023multi,\n",
    "  title={Multi-emotion Recognition Using Multi-EmoBERT and Emotion Analysis in Fake News},\n",
    "  author={Li, Jinfen and Xiao, Lu},\n",
    "  booktitle={Proceedings of the 15th ACM Web Science Conference 2023},\n",
    "  pages={128--135},\n",
    "  year={2023}\n",
    "}"
   ]
  },
  {
   "cell_type": "markdown",
   "id": "5749f518-633c-46ec-b803-3c9418e8ea22",
   "metadata": {},
   "source": [
    "## Build Benchmark Dataset\n",
    "Use semEval 2018 Task-1 as the example"
   ]
  },
  {
   "cell_type": "code",
   "execution_count": null,
   "id": "47292c10-e876-4066-a8f0-8ff3ac23cdd4",
   "metadata": {},
   "outputs": [],
   "source": [
    "%run ../scripts/build_dataset.py --data_dir ../data --dataset se_english --arch bert-base-uncased --resource_dir ../resources --split train"
   ]
  },
  {
   "cell_type": "code",
   "execution_count": null,
   "id": "958c86eb-5a1e-4d30-b7b4-156eb2df8164",
   "metadata": {},
   "outputs": [],
   "source": [
    "%run ../scripts/build_dataset.py --data_dir ../data --dataset se_english --arch bert-base-uncased --resource_dir ../resources --split dev"
   ]
  },
  {
   "cell_type": "code",
   "execution_count": null,
   "id": "810354a6-37a6-4deb-8307-e389e91a058b",
   "metadata": {
    "tags": []
   },
   "outputs": [],
   "source": [
    "%run ../scripts/build_dataset.py --data_dir ../data --dataset se_english --arch bert-base-uncased --resource_dir ../resources --split test"
   ]
  },
  {
   "cell_type": "markdown",
   "id": "07493848-f398-4d78-adde-baaaeaf2f81e",
   "metadata": {},
   "source": [
    "## Train Model"
   ]
  },
  {
   "cell_type": "markdown",
   "id": "d1709040-b6e8-4730-ba4a-6153ae74663b",
   "metadata": {},
   "source": [
    "### Task LM + Hashtag"
   ]
  },
  {
   "cell_type": "code",
   "execution_count": null,
   "id": "72d12fe4-8565-4bdf-a320-92be3a0d7b8b",
   "metadata": {
    "tags": []
   },
   "outputs": [],
   "source": [
    "%run ../main.py data=se_english \\\n",
    "    model=lm \\\n",
    "    model.use_hashtag=True \\\n",
    "    model.hashtag_emb_dim=80 \\\n",
    "model.use_senti_tree=False \\\n",
    "    model.phrase_emb_dim=80 \\\n",
    "model.use_emo_cor=False \\\n",
    "    model.optimizer.lr=2e-5 \\\n",
    "    setup.train_batch_size=32 \\\n",
    "    setup.accumulate_grad_batches=1 \\\n",
    "    setup.eff_train_batch_size=32 \\\n",
    "    setup.eval_batch_size=32 \\\n",
    "    setup.num_workers=3 \\\n",
    "    seed=0 --multirun\n"
   ]
  },
  {
   "cell_type": "markdown",
   "id": "26c114ab-20b5-4432-8c49-4b9068022631",
   "metadata": {},
   "source": [
    "### Task LM + Hashtag + Sentiment Composition"
   ]
  },
  {
   "cell_type": "code",
   "execution_count": null,
   "id": "581fefee-8e8d-446f-b4d1-9336de570fc8",
   "metadata": {
    "tags": []
   },
   "outputs": [],
   "source": [
    "%run ../main.py data=se_english \\\n",
    "    model=lm \\\n",
    "    model.use_hashtag=True \\\n",
    "    model.hashtag_emb_dim=80 \\\n",
    "model.use_senti_tree=True \\\n",
    "    model.phrase_emb_dim=80 \\\n",
    "model.use_emo_cor=False \\\n",
    "    model.optimizer.lr=2e-5 \\\n",
    "    setup.train_batch_size=32 \\\n",
    "    setup.accumulate_grad_batches=1 \\\n",
    "    setup.eff_train_batch_size=32 \\\n",
    "    setup.eval_batch_size=32 \\\n",
    "    setup.num_workers=3 \\\n",
    "    seed=0 --multirun"
   ]
  },
  {
   "cell_type": "markdown",
   "id": "8edc831e-e95e-4661-9492-4b47c3290727",
   "metadata": {},
   "source": [
    "### Task LM + Hashtag + Sentiment Composition + Emotion Correlation"
   ]
  },
  {
   "cell_type": "code",
   "execution_count": null,
   "id": "10b37b92-71a0-4a3d-8655-207319735adc",
   "metadata": {},
   "outputs": [],
   "source": [
    "%run ../main.py data=se_english \\\n",
    "    model=lm \\\n",
    "    model.use_hashtag=True \\\n",
    "    model.hashtag_emb_dim=80 \\\n",
    "model.use_senti_tree=True \\\n",
    "    model.phrase_emb_dim=80 \\\n",
    "model.use_emo_cor=True \\\n",
    "    model.optimizer.lr=2e-5 \\\n",
    "    setup.train_batch_size=32 \\\n",
    "    setup.accumulate_grad_batches=1 \\\n",
    "    setup.eff_train_batch_size=32 \\\n",
    "    setup.eval_batch_size=32 \\\n",
    "    setup.num_workers=3 \\\n",
    "    seed=0 --multirun"
   ]
  },
  {
   "cell_type": "markdown",
   "id": "e427a16b-bc5b-42b0-8e54-1f24eef8ed44",
   "metadata": {},
   "source": [
    "## Evaluate Model"
   ]
  },
  {
   "cell_type": "code",
   "execution_count": null,
   "id": "316a6b6d-5813-43b7-a17d-90066a9f2ad9",
   "metadata": {
    "tags": []
   },
   "outputs": [],
   "source": [
    "%run ../main.py data=se_english \\\n",
    "    training=evaluate \\\n",
    "    training.exp_id=best_model \\\n",
    "    training.ckpt_path=\\\"epoch=7-step=215.ckpt\\\" \\\n",
    "    setup.eff_train_batch_size=32 \\\n",
    "    setup.eval_batch_size=32 \\\n",
    "    setup.num_workers=3 \\\n",
    "    seed=0 --multirun"
   ]
  },
  {
   "cell_type": "code",
   "execution_count": null,
   "id": "6a600fa0-009d-4827-b0f1-2b7955e7eac8",
   "metadata": {},
   "outputs": [],
   "source": []
  }
 ],
 "metadata": {
  "kernelspec": {
   "display_name": "emo_env",
   "language": "python",
   "name": "emo_env"
  },
  "language_info": {
   "codemirror_mode": {
    "name": "ipython",
    "version": 3
   },
   "file_extension": ".py",
   "mimetype": "text/x-python",
   "name": "python",
   "nbconvert_exporter": "python",
   "pygments_lexer": "ipython3",
   "version": "3.9.16"
  }
 },
 "nbformat": 4,
 "nbformat_minor": 5
}
